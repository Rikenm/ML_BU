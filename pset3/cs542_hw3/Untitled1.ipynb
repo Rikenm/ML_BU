{
 "cells": [
  {
   "cell_type": "code",
   "execution_count": 5,
   "metadata": {
    "collapsed": false
   },
   "outputs": [],
   "source": [
    "from __future__ import absolute_import\n",
    "\n",
    "import matplotlib.pyplot as plt\n",
    "import numpy as np\n",
    "import scipy\n",
    "from scipy import misc\n",
    "\n",
    "def main():\n",
    "    datafile = 'data/bird_small.png'\n",
    "    # This creates a three-dimensional matrix bird_small whose first two indices\n",
    "    # identify a pixel position and whose last index represents red, green, or blue.\n",
    "    bird_small = scipy.misc.imread(datafile)\n",
    "\n",
    "    print(\"bird_small shape is \", bird_small.shape)\n",
    "    plt.imshow(bird_small)\n",
    "    # Divide every entry in bird_small by 255 so all values are in the range of 0 to 1\n",
    "    bird_small = bird_small / 255.\n",
    "\n",
    "    # Unroll the image to shape (16384,3) (16384 is 128*128)\n",
    "    bird_small = bird_small.reshape(-1, 3)\n",
    "\n",
    "    # Run k-means on this data, forming 16 clusters, with random initialization\n",
    "    clusters, centroid_history = run_k_means(bird_small, choose_random_centroids(bird_small, K=16), n_iter=10)\n",
    "\n",
    "    # Now I have 16 centroids, each representing a color.\n",
    "    # Let's assign an index to each pixel in the original image dictating\n",
    "    # which of the 16 colors it should be\n",
    "\n",
    "    #clusters = None\n",
    "\n",
    "    # Now loop through the original image and form a new image\n",
    "    # that only has 16 colors in it\n",
    "\n",
    "    final_image = np.zeros((clusters.shape[0], 3))\n",
    "\n",
    "    # Reshape the original image and the new, final image and draw them\n",
    "    # To see what the \"compressed\" image looks like\n",
    "    plt.figure()\n",
    "    plt.imshow(bird_small.reshape(128, 128, 3))\n",
    "    plt.figure()\n",
    "    plt.imshow(final_image.reshape(128, 128, 3))\n",
    "\n",
    "    plt.show()\n",
    "\n",
    "\n"
   ]
  },
  {
   "cell_type": "code",
   "execution_count": 6,
   "metadata": {
    "collapsed": false
   },
   "outputs": [
    {
     "name": "stdout",
     "output_type": "stream",
     "text": [
      "bird_small shape is  (128, 128, 3)\n"
     ]
    },
    {
     "ename": "NameError",
     "evalue": "name 'run_k_means' is not defined",
     "output_type": "error",
     "traceback": [
      "\u001b[0;31m---------------------------------------------------------------------------\u001b[0m",
      "\u001b[0;31mNameError\u001b[0m                                 Traceback (most recent call last)",
      "\u001b[0;32m<ipython-input-6-58ca95c5b364>\u001b[0m in \u001b[0;36m<module>\u001b[0;34m()\u001b[0m\n\u001b[0;32m----> 1\u001b[0;31m \u001b[0mmain\u001b[0m\u001b[0;34m(\u001b[0m\u001b[0;34m)\u001b[0m\u001b[0;34m\u001b[0m\u001b[0m\n\u001b[0m",
      "\u001b[0;32m<ipython-input-5-ad29771a211d>\u001b[0m in \u001b[0;36mmain\u001b[0;34m()\u001b[0m\n\u001b[1;32m     21\u001b[0m \u001b[0;34m\u001b[0m\u001b[0m\n\u001b[1;32m     22\u001b[0m     \u001b[0;31m# Run k-means on this data, forming 16 clusters, with random initialization\u001b[0m\u001b[0;34m\u001b[0m\u001b[0;34m\u001b[0m\u001b[0m\n\u001b[0;32m---> 23\u001b[0;31m     \u001b[0mclusters\u001b[0m\u001b[0;34m,\u001b[0m \u001b[0mcentroid_history\u001b[0m \u001b[0;34m=\u001b[0m \u001b[0mrun_k_means\u001b[0m\u001b[0;34m(\u001b[0m\u001b[0mbird_small\u001b[0m\u001b[0;34m,\u001b[0m \u001b[0mchoose_random_centroids\u001b[0m\u001b[0;34m(\u001b[0m\u001b[0mbird_small\u001b[0m\u001b[0;34m,\u001b[0m \u001b[0mK\u001b[0m\u001b[0;34m=\u001b[0m\u001b[0;36m16\u001b[0m\u001b[0;34m)\u001b[0m\u001b[0;34m,\u001b[0m \u001b[0mn_iter\u001b[0m\u001b[0;34m=\u001b[0m\u001b[0;36m10\u001b[0m\u001b[0;34m)\u001b[0m\u001b[0;34m\u001b[0m\u001b[0m\n\u001b[0m\u001b[1;32m     24\u001b[0m \u001b[0;34m\u001b[0m\u001b[0m\n\u001b[1;32m     25\u001b[0m     \u001b[0;31m# Now I have 16 centroids, each representing a color.\u001b[0m\u001b[0;34m\u001b[0m\u001b[0;34m\u001b[0m\u001b[0m\n",
      "\u001b[0;31mNameError\u001b[0m: name 'run_k_means' is not defined"
     ]
    }
   ],
   "source": [
    "main()"
   ]
  }
 ],
 "metadata": {
  "kernelspec": {
   "display_name": "Python [conda root]",
   "language": "python",
   "name": "conda-root-py"
  },
  "language_info": {
   "codemirror_mode": {
    "name": "ipython",
    "version": 3
   },
   "file_extension": ".py",
   "mimetype": "text/x-python",
   "name": "python",
   "nbconvert_exporter": "python",
   "pygments_lexer": "ipython3",
   "version": "3.5.2"
  }
 },
 "nbformat": 4,
 "nbformat_minor": 2
}
